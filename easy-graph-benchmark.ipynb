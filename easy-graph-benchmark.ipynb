{
 "cells": [
  {
   "cell_type": "code",
   "execution_count": 1,
   "id": "9e2e11bb-2cd1-4a7b-9235-a0713e272b4b",
   "metadata": {},
   "outputs": [],
   "source": [
    "import easygraph as eg\n",
    "import time"
   ]
  },
  {
   "cell_type": "code",
   "execution_count": 2,
   "id": "aee70a36-d76c-4806-9a30-08b5e0864636",
   "metadata": {},
   "outputs": [],
   "source": [
    "g = eg.Graph()\n",
    "g.add_edges_from_file(\"../project/dataset/ENZYMES_g1/ENZYMES_g1_weighted.csv\",  weighted=True)"
   ]
  },
  {
   "cell_type": "code",
   "execution_count": 3,
   "id": "3752e118-baf6-4259-a024-277a8ec87c3f",
   "metadata": {},
   "outputs": [
    {
     "name": "stdout",
     "output_type": "stream",
     "text": [
      "37\n",
      "84\n"
     ]
    }
   ],
   "source": [
    "print(len(g.nodes))\n",
    "print(len(g.edges))"
   ]
  },
  {
   "cell_type": "code",
   "execution_count": 22,
   "id": "8b2cf75c-b9b2-4f1d-b480-6d5ac552879c",
   "metadata": {},
   "outputs": [
    {
     "name": "stdout",
     "output_type": "stream",
     "text": [
      "time to calculate dijkstra is: 0.009411096572875977\n"
     ]
    }
   ],
   "source": [
    "start = time.time()\n",
    "for i in range(100):\n",
    "    ret=eg.functions.path.Dijkstra(g, node=\"1\")\n",
    "end = time.time()\n",
    "print(\"time to calculate dijkstra is:\", end-start)"
   ]
  },
  {
   "cell_type": "code",
   "execution_count": 13,
   "id": "eef997ed-22f2-4476-9c0d-158e5f537743",
   "metadata": {},
   "outputs": [],
   "source": [
    "g2 = eg.Graph()\n",
    "g2.add_node(0)\n",
    "g2.add_node(1)\n",
    "g2.add_node(2)\n",
    "g2.add_node(3)\n",
    "g2.add_edge(0,1,weight=1)\n",
    "g2.add_edge(0,2,weight=2)\n",
    "ret2 = eg.functions.path.Dijkstra(g2, node=0)"
   ]
  },
  {
   "cell_type": "code",
   "execution_count": 10,
   "id": "d1f2e784-34da-4cb2-a6c8-4397e381636b",
   "metadata": {},
   "outputs": [
    {
     "name": "stdout",
     "output_type": "stream",
     "text": [
      "{0: 0, 1: 1, 2: 2}\n"
     ]
    }
   ],
   "source": [
    "print(ret2)"
   ]
  },
  {
   "cell_type": "code",
   "execution_count": 28,
   "id": "5aa37b25-41c3-4932-9ea9-65a8bfa6de94",
   "metadata": {},
   "outputs": [],
   "source": [
    "#middle size dataset of econ-mahindas-equal-weighted.csv\n",
    "g2 = eg.Graph()\n",
    "g2.add_edges_from_file(\"../project/dataset/econ-mahindas/econ-mahindas-equal-weighted.csv\",  weighted=True)"
   ]
  },
  {
   "cell_type": "code",
   "execution_count": 42,
   "id": "7e627a75-5001-45f5-afd2-1e64c7e4a6fc",
   "metadata": {},
   "outputs": [
    {
     "name": "stdout",
     "output_type": "stream",
     "text": [
      "1258\n",
      "7619\n"
     ]
    }
   ],
   "source": [
    "print(len(g2.nodes))\n",
    "print(len(g2.edges))"
   ]
  },
  {
   "cell_type": "code",
   "execution_count": 31,
   "id": "429d676a-bd31-4c6d-b108-3ba5fb6d1141",
   "metadata": {},
   "outputs": [
    {
     "name": "stdout",
     "output_type": "stream",
     "text": [
      "time to calculate dijkstra is: 0.6119630336761475\n"
     ]
    }
   ],
   "source": [
    "start = time.time()\n",
    "for i in range(100):\n",
    "    ret=eg.functions.path.Dijkstra(g2, node=\"5\")\n",
    "end = time.time()\n",
    "print(\"time to calculate dijkstra is:\", end-start)"
   ]
  },
  {
   "cell_type": "code",
   "execution_count": 4,
   "id": "f96a8598-089e-442a-a4b0-8344416e6613",
   "metadata": {},
   "outputs": [],
   "source": [
    "g3 = eg.Graph()\n",
    "g3.add_edges_from_file(\"../downloaded_dataset/bio-CE-CX/bio-CE-CX.csv\",  weighted=True)"
   ]
  },
  {
   "cell_type": "code",
   "execution_count": 5,
   "id": "b8efa2d7-a6f5-4032-acc9-6a25e15a49f0",
   "metadata": {},
   "outputs": [
    {
     "name": "stdout",
     "output_type": "stream",
     "text": [
      "15229\n",
      "245952\n"
     ]
    }
   ],
   "source": [
    "print(len(g3.nodes))\n",
    "print(len(g3.edges))"
   ]
  },
  {
   "cell_type": "code",
   "execution_count": 7,
   "id": "0973969c-9b1e-405c-b941-a571633db30d",
   "metadata": {},
   "outputs": [
    {
     "name": "stdout",
     "output_type": "stream",
     "text": [
      "time to calculate dijkstra is: 3.7651901245117188\n"
     ]
    }
   ],
   "source": [
    "start = time.time()\n",
    "for i in range(10):\n",
    "    ret=eg.functions.path.Dijkstra(g3, node=str(i))\n",
    "end = time.time()\n",
    "print(\"time to calculate dijkstra is:\", end-start)"
   ]
  },
  {
   "cell_type": "code",
   "execution_count": null,
   "id": "36b257a5-c605-4be8-aea3-c4dd21005293",
   "metadata": {},
   "outputs": [],
   "source": []
  }
 ],
 "metadata": {
  "kernelspec": {
   "display_name": "Python 3",
   "language": "python",
   "name": "python3"
  },
  "language_info": {
   "codemirror_mode": {
    "name": "ipython",
    "version": 3
   },
   "file_extension": ".py",
   "mimetype": "text/x-python",
   "name": "python",
   "nbconvert_exporter": "python",
   "pygments_lexer": "ipython3",
   "version": "3.6.13"
  }
 },
 "nbformat": 4,
 "nbformat_minor": 5
}
